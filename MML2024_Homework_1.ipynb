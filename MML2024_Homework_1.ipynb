{
  "nbformat": 4,
  "nbformat_minor": 0,
  "metadata": {
    "colab": {
      "provenance": [],
      "include_colab_link": true
    },
    "kernelspec": {
      "name": "python3",
      "display_name": "Python 3"
    },
    "language_info": {
      "name": "python"
    }
  },
  "cells": [
    {
      "cell_type": "markdown",
      "metadata": {
        "id": "view-in-github",
        "colab_type": "text"
      },
      "source": [
        "<a href=\"https://colab.research.google.com/github/Hungk66tntoan/Hungk66tntoan/blob/main/MML2024_Homework_1.ipynb\" target=\"_parent\"><img src=\"https://colab.research.google.com/assets/colab-badge.svg\" alt=\"Open In Colab\"/></a>"
      ]
    },
    {
      "cell_type": "markdown",
      "source": [
        "# **Mathematics for machine learning,  **\n",
        "## **Homework 1 : Python basics**\n",
        "\n",
        "In this homework, you will be introduced with the Python programming language. You can run the examples as you like, but you will need to submit your solution for the four exercises.\n",
        "\n",
        "\n"
      ],
      "metadata": {
        "id": "rQ5rajear_24"
      }
    },
    {
      "cell_type": "markdown",
      "source": [
        "---\n",
        "\n",
        "### 1 Input/Output\n",
        "In this exercise, we will learn how to print in Python to the standard output. Printing is as easy as calling the function `print`."
      ],
      "metadata": {
        "id": "-W9TpPb5tuR_"
      }
    },
    {
      "cell_type": "code",
      "source": [
        "print(\"Hello World!\")"
      ],
      "metadata": {
        "colab": {
          "base_uri": "https://localhost:8080/"
        },
        "id": "meNkPChDuf-V",
        "outputId": "99abd1b6-6bbe-41ef-b42d-838815be488e"
      },
      "execution_count": null,
      "outputs": [
        {
          "output_type": "stream",
          "name": "stdout",
          "text": [
            "Hello World!\n"
          ]
        }
      ]
    },
    {
      "cell_type": "markdown",
      "source": [
        "We can also print by just typing what we want to show. There is a difference with `print` but you will notice later."
      ],
      "metadata": {
        "id": "BPp5hIwbx980"
      }
    },
    {
      "cell_type": "code",
      "source": [
        "\"Hello World!\""
      ],
      "metadata": {
        "colab": {
          "base_uri": "https://localhost:8080/",
          "height": 36
        },
        "id": "4SJ466ahyQ5S",
        "outputId": "a518028a-5346-4d98-d5eb-ed4172c361c6"
      },
      "execution_count": null,
      "outputs": [
        {
          "output_type": "execute_result",
          "data": {
            "text/plain": [
              "'Hello World!'"
            ],
            "application/vnd.google.colaboratory.intrinsic+json": {
              "type": "string"
            }
          },
          "metadata": {},
          "execution_count": 4
        }
      ]
    },
    {
      "cell_type": "markdown",
      "source": [
        "In the above example, a string `\"Hello World!\"` is being printed to the standard output. We might not use this a lot in our class, but if you are curious, this is an example of taking input from the standard input."
      ],
      "metadata": {
        "id": "Y5KhBMs6vIVG"
      }
    },
    {
      "cell_type": "code",
      "source": [
        "x = input()\n",
        "print(x)"
      ],
      "metadata": {
        "colab": {
          "base_uri": "https://localhost:8080/"
        },
        "id": "GdqXTgpHv0ZS",
        "outputId": "09f74798-5199-4a28-da5c-19bfe88be31a"
      },
      "execution_count": null,
      "outputs": [
        {
          "output_type": "stream",
          "name": "stdout",
          "text": [
            "Mathematics\n",
            "Mathematics\n"
          ]
        }
      ]
    },
    {
      "cell_type": "markdown",
      "source": [
        "### 2 Types\n",
        "\n",
        "There are different types in Python. Here, we will introduce you to some of the basic ones."
      ],
      "metadata": {
        "id": "tvUZc9mXx3I6"
      }
    },
    {
      "cell_type": "code",
      "source": [
        "type(1)"
      ],
      "metadata": {
        "colab": {
          "base_uri": "https://localhost:8080/"
        },
        "id": "CVDH59rfywAv",
        "outputId": "70a29754-7702-4f95-f49b-cf25616a1268"
      },
      "execution_count": null,
      "outputs": [
        {
          "output_type": "execute_result",
          "data": {
            "text/plain": [
              "int"
            ]
          },
          "metadata": {},
          "execution_count": 6
        }
      ]
    },
    {
      "cell_type": "code",
      "source": [
        "type(1.5)"
      ],
      "metadata": {
        "colab": {
          "base_uri": "https://localhost:8080/"
        },
        "id": "o-xY0cA80ENo",
        "outputId": "4232f122-2802-4883-e638-997319061a63"
      },
      "execution_count": null,
      "outputs": [
        {
          "output_type": "execute_result",
          "data": {
            "text/plain": [
              "float"
            ]
          },
          "metadata": {},
          "execution_count": 7
        }
      ]
    },
    {
      "cell_type": "code",
      "source": [
        "type(\"Hello World!\")"
      ],
      "metadata": {
        "colab": {
          "base_uri": "https://localhost:8080/"
        },
        "id": "a60Cpb_G0I4v",
        "outputId": "b6023571-df0f-4627-cd34-ca0db5cf15a7"
      },
      "execution_count": null,
      "outputs": [
        {
          "output_type": "execute_result",
          "data": {
            "text/plain": [
              "str"
            ]
          },
          "metadata": {},
          "execution_count": 8
        }
      ]
    },
    {
      "cell_type": "code",
      "source": [
        "type(True)"
      ],
      "metadata": {
        "colab": {
          "base_uri": "https://localhost:8080/"
        },
        "id": "Z2fXhgdg3DfA",
        "outputId": "54a47e14-2427-4778-9d41-1e98934ee640"
      },
      "execution_count": null,
      "outputs": [
        {
          "output_type": "execute_result",
          "data": {
            "text/plain": [
              "bool"
            ]
          },
          "metadata": {},
          "execution_count": 9
        }
      ]
    },
    {
      "cell_type": "markdown",
      "source": [
        "### 3 Variables\n",
        "\n",
        "The literals that are introduced in exercise 2 can be stored in variables to be later accessed by using names."
      ],
      "metadata": {
        "id": "b-mqo3vW0ReW"
      }
    },
    {
      "cell_type": "code",
      "source": [
        "a = 1\n",
        "print(a)"
      ],
      "metadata": {
        "colab": {
          "base_uri": "https://localhost:8080/"
        },
        "id": "3KaXvPzO1A40",
        "outputId": "451f24c3-0c7c-47ed-839f-16341214ea37"
      },
      "execution_count": null,
      "outputs": [
        {
          "output_type": "stream",
          "name": "stdout",
          "text": [
            "1\n"
          ]
        }
      ]
    },
    {
      "cell_type": "markdown",
      "source": [
        "### 4 Operators\n",
        "\n",
        "You might be familiar with operators like addition, subtraction, and others. We have them in Python too."
      ],
      "metadata": {
        "id": "ie5r69Tk1SVM"
      }
    },
    {
      "cell_type": "code",
      "source": [
        "2 + 5 # addition"
      ],
      "metadata": {
        "colab": {
          "base_uri": "https://localhost:8080/"
        },
        "id": "0BbnYxHB2DjY",
        "outputId": "6c5ef034-54b9-44f6-eae3-1366f59d7b0f"
      },
      "execution_count": null,
      "outputs": [
        {
          "output_type": "execute_result",
          "data": {
            "text/plain": [
              "7"
            ]
          },
          "metadata": {},
          "execution_count": 11
        }
      ]
    },
    {
      "cell_type": "code",
      "source": [
        "2 * 5 # multiplication"
      ],
      "metadata": {
        "colab": {
          "base_uri": "https://localhost:8080/"
        },
        "id": "365U7HFb2IjX",
        "outputId": "ff6b376e-43d4-4aea-dfb7-64418f33edff"
      },
      "execution_count": null,
      "outputs": [
        {
          "output_type": "execute_result",
          "data": {
            "text/plain": [
              "10"
            ]
          },
          "metadata": {},
          "execution_count": 12
        }
      ]
    },
    {
      "cell_type": "code",
      "source": [
        "2 ** 5 # power"
      ],
      "metadata": {
        "colab": {
          "base_uri": "https://localhost:8080/"
        },
        "id": "697xcaiP2LUN",
        "outputId": "4a94fd8f-95bd-481a-d5f1-a42c50fb82a0"
      },
      "execution_count": null,
      "outputs": [
        {
          "output_type": "execute_result",
          "data": {
            "text/plain": [
              "32"
            ]
          },
          "metadata": {},
          "execution_count": 13
        }
      ]
    },
    {
      "cell_type": "code",
      "source": [
        "2 - 5 # subtraction"
      ],
      "metadata": {
        "colab": {
          "base_uri": "https://localhost:8080/"
        },
        "id": "97TTQ_KG2VRW",
        "outputId": "93ac365c-49a9-4715-c00f-0c980684e377"
      },
      "execution_count": null,
      "outputs": [
        {
          "output_type": "execute_result",
          "data": {
            "text/plain": [
              "-3"
            ]
          },
          "metadata": {},
          "execution_count": 14
        }
      ]
    },
    {
      "cell_type": "code",
      "source": [
        "5 / 2 # division"
      ],
      "metadata": {
        "colab": {
          "base_uri": "https://localhost:8080/"
        },
        "id": "509QrR212bXb",
        "outputId": "e0fa6191-a0c6-436a-b946-6f97817da4ad"
      },
      "execution_count": null,
      "outputs": [
        {
          "output_type": "execute_result",
          "data": {
            "text/plain": [
              "2.5"
            ]
          },
          "metadata": {},
          "execution_count": 15
        }
      ]
    },
    {
      "cell_type": "code",
      "source": [
        "5 // 2 # integer division"
      ],
      "metadata": {
        "colab": {
          "base_uri": "https://localhost:8080/"
        },
        "id": "ASDPfMH62eUB",
        "outputId": "fdf3052b-9f2d-4948-8a9d-a550075dd6d4"
      },
      "execution_count": null,
      "outputs": [
        {
          "output_type": "execute_result",
          "data": {
            "text/plain": [
              "2"
            ]
          },
          "metadata": {},
          "execution_count": 16
        }
      ]
    },
    {
      "cell_type": "code",
      "source": [
        "5 % 2 # modulo"
      ],
      "metadata": {
        "colab": {
          "base_uri": "https://localhost:8080/"
        },
        "id": "bFXvvBro2j3v",
        "outputId": "b65928f5-d4b2-417d-b856-1df53403a103"
      },
      "execution_count": null,
      "outputs": [
        {
          "output_type": "execute_result",
          "data": {
            "text/plain": [
              "1"
            ]
          },
          "metadata": {},
          "execution_count": 17
        }
      ]
    },
    {
      "cell_type": "code",
      "source": [
        "5 == 2 # equality"
      ],
      "metadata": {
        "colab": {
          "base_uri": "https://localhost:8080/"
        },
        "id": "LHbgD_Ay2n2V",
        "outputId": "254bdb2d-7729-4ad3-8e3f-dc10c89035ae"
      },
      "execution_count": null,
      "outputs": [
        {
          "output_type": "execute_result",
          "data": {
            "text/plain": [
              "False"
            ]
          },
          "metadata": {},
          "execution_count": 18
        }
      ]
    },
    {
      "cell_type": "code",
      "source": [
        "5 != 2 # inequality"
      ],
      "metadata": {
        "colab": {
          "base_uri": "https://localhost:8080/"
        },
        "id": "DkSEVato2rc6",
        "outputId": "1e6b902f-96a2-408c-99f0-5a147d514f37"
      },
      "execution_count": null,
      "outputs": [
        {
          "output_type": "execute_result",
          "data": {
            "text/plain": [
              "True"
            ]
          },
          "metadata": {},
          "execution_count": 19
        }
      ]
    },
    {
      "cell_type": "code",
      "source": [
        "5 > 2 # greater than"
      ],
      "metadata": {
        "colab": {
          "base_uri": "https://localhost:8080/"
        },
        "id": "zYNwV3Z92t0P",
        "outputId": "bf862d3c-e78e-4482-9c4a-548b73d272d6"
      },
      "execution_count": null,
      "outputs": [
        {
          "output_type": "execute_result",
          "data": {
            "text/plain": [
              "True"
            ]
          },
          "metadata": {},
          "execution_count": 20
        }
      ]
    },
    {
      "cell_type": "code",
      "source": [
        "5 >= 2 # greater than or equal"
      ],
      "metadata": {
        "colab": {
          "base_uri": "https://localhost:8080/"
        },
        "id": "brncaM37JsEg",
        "outputId": "9caa83fc-fe5c-41c2-a806-5636d3319b9a"
      },
      "execution_count": null,
      "outputs": [
        {
          "output_type": "execute_result",
          "data": {
            "text/plain": [
              "True"
            ]
          },
          "metadata": {},
          "execution_count": 1
        }
      ]
    },
    {
      "cell_type": "code",
      "source": [
        "5 < 2 # less than"
      ],
      "metadata": {
        "colab": {
          "base_uri": "https://localhost:8080/"
        },
        "id": "Yghw1tmR2xMu",
        "outputId": "277707d8-aaf2-40d3-93fc-4a5872634e72"
      },
      "execution_count": null,
      "outputs": [
        {
          "output_type": "execute_result",
          "data": {
            "text/plain": [
              "False"
            ]
          },
          "metadata": {},
          "execution_count": 36
        }
      ]
    },
    {
      "cell_type": "code",
      "source": [
        "5 <= 2 # less than or equal"
      ],
      "metadata": {
        "colab": {
          "base_uri": "https://localhost:8080/"
        },
        "id": "lZ9dRlCyJy46",
        "outputId": "b0cddf69-dde3-4ed9-d0dc-2ef1b95f4d77"
      },
      "execution_count": null,
      "outputs": [
        {
          "output_type": "execute_result",
          "data": {
            "text/plain": [
              "False"
            ]
          },
          "metadata": {},
          "execution_count": 2
        }
      ]
    },
    {
      "cell_type": "code",
      "source": [
        "5 <= 2 or 2 <= 5 # or"
      ],
      "metadata": {
        "colab": {
          "base_uri": "https://localhost:8080/"
        },
        "id": "lHOowgseJ2Va",
        "outputId": "f1b9c5a7-29e6-4776-b01d-136f3d51c9a2"
      },
      "execution_count": null,
      "outputs": [
        {
          "output_type": "execute_result",
          "data": {
            "text/plain": [
              "True"
            ]
          },
          "metadata": {},
          "execution_count": 7
        }
      ]
    },
    {
      "cell_type": "code",
      "source": [
        "5 <= 2 and 2 <= 5 # and"
      ],
      "metadata": {
        "colab": {
          "base_uri": "https://localhost:8080/"
        },
        "id": "TeCXRTuhKCOL",
        "outputId": "e0144388-640f-49c6-8245-cc0d6a6484fd"
      },
      "execution_count": null,
      "outputs": [
        {
          "output_type": "execute_result",
          "data": {
            "text/plain": [
              "False"
            ]
          },
          "metadata": {},
          "execution_count": 8
        }
      ]
    },
    {
      "cell_type": "code",
      "source": [
        "not (5 <= 2)"
      ],
      "metadata": {
        "colab": {
          "base_uri": "https://localhost:8080/"
        },
        "id": "MXumXjJuKEhv",
        "outputId": "46abda9e-cf13-48b9-de5e-567d01e39e1a"
      },
      "execution_count": null,
      "outputs": [
        {
          "output_type": "execute_result",
          "data": {
            "text/plain": [
              "True"
            ]
          },
          "metadata": {},
          "execution_count": 9
        }
      ]
    },
    {
      "cell_type": "markdown",
      "source": [
        "Now, let's try to write a complicated formula. The closed form of the $n$-th Fibonacci number is $\\frac{\\varphi^n - (-\\varphi)^{-n}}{\\sqrt{5}}$ where $\\varphi = \\frac{1 + \\sqrt{5}}{2}$ (source: https://en.wikipedia.org/wiki/Fibonacci_number#Closed-form_expression). Let's use this to compute the tenth Fibonacci number. Here, we also use `sqrt` from the `math` module which computes the square root. Notice that the result is not perfectly an integer due to the floating point precision. But this is good enough. We can also round the number using `round`."
      ],
      "metadata": {
        "id": "30I3lDeBKKgY"
      }
    },
    {
      "cell_type": "code",
      "source": [
        "import math\n",
        "\n",
        "phi = (1 + math.sqrt(5)) / 2\n",
        "print((phi ** 10 - (-phi) ** -10) / math.sqrt(5))\n",
        "print(round((phi ** 10 - (-phi) ** -10) / math.sqrt(5)))"
      ],
      "metadata": {
        "colab": {
          "base_uri": "https://localhost:8080/"
        },
        "id": "qU0I8EBRLTtv",
        "outputId": "32e7f585-94d4-4618-8725-a05972a54829"
      },
      "execution_count": null,
      "outputs": [
        {
          "output_type": "stream",
          "name": "stdout",
          "text": [
            "55.000000000000014\n",
            "55\n"
          ]
        }
      ]
    },
    {
      "cell_type": "markdown",
      "source": [
        "### 5 Conditional\n",
        "\n",
        "We often need our code to behave differently according to some condition. In Python, we can use `if` clause."
      ],
      "metadata": {
        "id": "f0_HHMa_NOF1"
      }
    },
    {
      "cell_type": "code",
      "source": [
        "n = 5\n",
        "if n % 2 == 0:\n",
        "  print(\"Even\")\n",
        "else:\n",
        "  print(\"Odd\")"
      ],
      "metadata": {
        "colab": {
          "base_uri": "https://localhost:8080/"
        },
        "id": "zWggEePbNqil",
        "outputId": "4d227d6a-c96d-4594-a348-89aebee2f1b0"
      },
      "execution_count": null,
      "outputs": [
        {
          "output_type": "stream",
          "name": "stdout",
          "text": [
            "Odd\n"
          ]
        }
      ]
    },
    {
      "cell_type": "code",
      "source": [
        "n = 8\n",
        "modulo = n % 3\n",
        "if modulo == 0:\n",
        "  print(\"Zero\")\n",
        "elif modulo == 1:\n",
        "  print(\"One\")\n",
        "else:\n",
        "  print(\"Two\")"
      ],
      "metadata": {
        "colab": {
          "base_uri": "https://localhost:8080/"
        },
        "id": "9dT1KLs0OJJR",
        "outputId": "c2c89199-c9e7-4c96-fa43-4630c8eaf7d5"
      },
      "execution_count": null,
      "outputs": [
        {
          "output_type": "stream",
          "name": "stdout",
          "text": [
            "Two\n"
          ]
        }
      ]
    },
    {
      "cell_type": "markdown",
      "source": [
        "### 6 For Loop\n",
        "\n",
        "Imagine that we want to print all the even numbers between 1 and 10. A natural way to do this is using a `for` loop."
      ],
      "metadata": {
        "id": "DHIBBn_pOwlc"
      }
    },
    {
      "cell_type": "code",
      "source": [
        "for i in range(10):\n",
        "  print(i)"
      ],
      "metadata": {
        "colab": {
          "base_uri": "https://localhost:8080/"
        },
        "id": "t_XQCtB1J3rO",
        "outputId": "e92b0bce-8c3e-44ff-d549-a11d330f9f4d"
      },
      "execution_count": null,
      "outputs": [
        {
          "output_type": "stream",
          "name": "stdout",
          "text": [
            "0\n",
            "1\n",
            "2\n",
            "3\n",
            "4\n",
            "5\n",
            "6\n",
            "7\n",
            "8\n",
            "9\n"
          ]
        }
      ]
    },
    {
      "cell_type": "code",
      "source": [
        "for i in range(2, 10):\n",
        "  print(i)"
      ],
      "metadata": {
        "colab": {
          "base_uri": "https://localhost:8080/"
        },
        "id": "2pkcQqwGPULW",
        "outputId": "1628e456-346d-414c-c997-f79c0642fe09"
      },
      "execution_count": null,
      "outputs": [
        {
          "output_type": "stream",
          "name": "stdout",
          "text": [
            "2\n",
            "3\n",
            "4\n",
            "5\n",
            "6\n",
            "7\n",
            "8\n",
            "9\n"
          ]
        }
      ]
    },
    {
      "cell_type": "code",
      "source": [
        "for i in range(1, 11, 2):\n",
        "  print(i)"
      ],
      "metadata": {
        "colab": {
          "base_uri": "https://localhost:8080/"
        },
        "id": "3WwFMboZPcv5",
        "outputId": "66a4ead5-6062-4607-a3f8-c6cf7324482f"
      },
      "execution_count": null,
      "outputs": [
        {
          "output_type": "stream",
          "name": "stdout",
          "text": [
            "1\n",
            "3\n",
            "5\n",
            "7\n",
            "9\n"
          ]
        }
      ]
    },
    {
      "cell_type": "code",
      "source": [
        "for i in range(2, 11, 2):\n",
        "  print(i) # even numbers between 1 to 10."
      ],
      "metadata": {
        "colab": {
          "base_uri": "https://localhost:8080/"
        },
        "id": "xxoP4U4VPi79",
        "outputId": "3d4d8f38-81dd-48f9-8cdf-13e3696b3b04"
      },
      "execution_count": null,
      "outputs": [
        {
          "output_type": "stream",
          "name": "stdout",
          "text": [
            "2\n",
            "4\n",
            "6\n",
            "8\n",
            "10\n"
          ]
        }
      ]
    },
    {
      "cell_type": "code",
      "source": [
        "for i in range(1, 11):\n",
        "  if i % 2 == 0:\n",
        "    print(i)"
      ],
      "metadata": {
        "colab": {
          "base_uri": "https://localhost:8080/"
        },
        "id": "xk-jx1bpPsbb",
        "outputId": "d8c29f63-c6fa-41a8-ea69-85792b776277"
      },
      "execution_count": null,
      "outputs": [
        {
          "output_type": "stream",
          "name": "stdout",
          "text": [
            "2\n",
            "4\n",
            "6\n",
            "8\n",
            "10\n"
          ]
        }
      ]
    },
    {
      "cell_type": "code",
      "source": [
        "for i in range(10, 0, -2):\n",
        "  print(i)"
      ],
      "metadata": {
        "colab": {
          "base_uri": "https://localhost:8080/"
        },
        "id": "sBXDH_xMQ4M7",
        "outputId": "3443e42d-faac-4ee8-8f98-15b096eb54d1"
      },
      "execution_count": null,
      "outputs": [
        {
          "output_type": "stream",
          "name": "stdout",
          "text": [
            "10\n",
            "8\n",
            "6\n",
            "4\n",
            "2\n"
          ]
        }
      ]
    },
    {
      "cell_type": "markdown",
      "source": [
        "Now, try to use `for` loop to write the first 10 Fibonacci numbers using the closed form that is given in Exercise 4."
      ],
      "metadata": {
        "id": "1yDXTjBNP7Hi"
      }
    },
    {
      "cell_type": "code",
      "source": [
        "import math\n",
        "\n",
        "for n in range(1, 11):\n",
        "  phi = (1 + math.sqrt(5)) / 2\n",
        "  print(round((phi ** n - (-phi) ** -n) / math.sqrt(5)))\n"
      ],
      "metadata": {
        "id": "ohnaN0XkQKLl",
        "colab": {
          "base_uri": "https://localhost:8080/"
        },
        "outputId": "479d248f-b5d8-4c3e-8055-3cfaa2e4eb84"
      },
      "execution_count": null,
      "outputs": [
        {
          "output_type": "stream",
          "name": "stdout",
          "text": [
            "1\n",
            "1\n",
            "2\n",
            "3\n",
            "5\n",
            "8\n",
            "13\n",
            "21\n",
            "34\n",
            "55\n"
          ]
        }
      ]
    },
    {
      "cell_type": "markdown",
      "source": [
        "Next, try to use `for` and `if` to check if 9999991 is a prime number."
      ],
      "metadata": {
        "id": "6nPWcHShQOM_"
      }
    },
    {
      "cell_type": "code",
      "source": [
        "n = 9999991\n",
        "is_prime = True\n",
        "for i in range(2, n):\n",
        "  if n % i == 0:\n",
        "    is_prime = False\n",
        "    break\n",
        "print(is_prime)"
      ],
      "metadata": {
        "id": "L7o4xp1SSLTO",
        "colab": {
          "base_uri": "https://localhost:8080/"
        },
        "outputId": "df575898-b079-4a75-d121-30c9310b67ab"
      },
      "execution_count": null,
      "outputs": [
        {
          "output_type": "stream",
          "name": "stdout",
          "text": [
            "True\n"
          ]
        }
      ]
    },
    {
      "cell_type": "markdown",
      "source": [
        "### 7 List\n",
        "\n",
        "We can create a list as follow:"
      ],
      "metadata": {
        "id": "in3SI46iSulD"
      }
    },
    {
      "cell_type": "code",
      "source": [
        "anything = [1, 5.0, \"A string\"]"
      ],
      "metadata": {
        "id": "lSKeG6cVTYBb"
      },
      "execution_count": null,
      "outputs": []
    },
    {
      "cell_type": "code",
      "source": [
        "for i in range(3):\n",
        "  print(anything[i])"
      ],
      "metadata": {
        "colab": {
          "base_uri": "https://localhost:8080/"
        },
        "id": "1B8yKGoLTd_P",
        "outputId": "f3cbdb31-e258-41a4-e237-84f15bc73ff8"
      },
      "execution_count": null,
      "outputs": [
        {
          "output_type": "stream",
          "name": "stdout",
          "text": [
            "1\n",
            "5.0\n",
            "A string\n"
          ]
        }
      ]
    },
    {
      "cell_type": "code",
      "source": [
        "for a in anything:\n",
        "  print(a)"
      ],
      "metadata": {
        "colab": {
          "base_uri": "https://localhost:8080/"
        },
        "id": "cqB34rOaTiYs",
        "outputId": "b334ac35-8e19-42f5-9223-e8b13549001d"
      },
      "execution_count": null,
      "outputs": [
        {
          "output_type": "stream",
          "name": "stdout",
          "text": [
            "1\n",
            "5.0\n",
            "A string\n"
          ]
        }
      ]
    },
    {
      "cell_type": "code",
      "source": [
        "print(anything[0])\n",
        "print(anything[1])\n",
        "print(anything[2])"
      ],
      "metadata": {
        "colab": {
          "base_uri": "https://localhost:8080/"
        },
        "id": "sJ57HS-cToTi",
        "outputId": "bead8636-0272-42a1-de9a-a18672c12428"
      },
      "execution_count": null,
      "outputs": [
        {
          "output_type": "stream",
          "name": "stdout",
          "text": [
            "1\n",
            "5.0\n",
            "A string\n"
          ]
        }
      ]
    },
    {
      "cell_type": "markdown",
      "source": [
        "Next, we will use list to construct a 2-dimensional structure such as a matrix or a Tic-Tac-Toe grid in Homework 1."
      ],
      "metadata": {
        "id": "ro4eI5n6T96L"
      }
    },
    {
      "cell_type": "code",
      "source": [
        "M = [[1, 2, 3], [4, 5, 6], [7, 8, 9], [10, 11, 12], [13, 14, 15]]\n",
        "print(M)"
      ],
      "metadata": {
        "colab": {
          "base_uri": "https://localhost:8080/"
        },
        "id": "N3w6cZeMUKnN",
        "outputId": "0ae6b5a0-1098-4e05-8424-55d070ef1ab6"
      },
      "execution_count": null,
      "outputs": [
        {
          "output_type": "stream",
          "name": "stdout",
          "text": [
            "[[1, 2, 3], [4, 5, 6], [7, 8, 9], [10, 11, 12], [13, 14, 15]]\n"
          ]
        }
      ]
    },
    {
      "cell_type": "code",
      "source": [
        "for i in range(5):\n",
        "  for j in range(3):\n",
        "    print(M[i][j], end=\" \")\n",
        "  print()"
      ],
      "metadata": {
        "colab": {
          "base_uri": "https://localhost:8080/"
        },
        "id": "XhPHuthJU7p3",
        "outputId": "da32c378-6ffc-4445-8f69-ad34a6825f29"
      },
      "execution_count": null,
      "outputs": [
        {
          "output_type": "stream",
          "name": "stdout",
          "text": [
            "1 2 3 \n",
            "4 5 6 \n",
            "7 8 9 \n",
            "10 11 12 \n",
            "13 14 15 \n"
          ]
        }
      ]
    },
    {
      "cell_type": "markdown",
      "source": [
        "Next, we will transpose the matrix above just using a `for` loop."
      ],
      "metadata": {
        "id": "1PCc7RDaVPl_"
      }
    },
    {
      "cell_type": "code",
      "source": [
        "for i in range(3):\n",
        "  for j in range(5):\n",
        "    print(M[j][i], end=\" \")\n",
        "  print()"
      ],
      "metadata": {
        "colab": {
          "base_uri": "https://localhost:8080/"
        },
        "id": "tig1ArLgVVS-",
        "outputId": "8e478985-1453-45b3-be64-0c2cf44a3177"
      },
      "execution_count": null,
      "outputs": [
        {
          "output_type": "stream",
          "name": "stdout",
          "text": [
            "1 4 7 10 13 \n",
            "2 5 8 11 14 \n",
            "3 6 9 12 15 \n"
          ]
        }
      ]
    },
    {
      "cell_type": "markdown",
      "source": [
        "The following example shows a Tic-Tac-Toe grid. (https://en.wikipedia.org/wiki/Tic-tac-toe)"
      ],
      "metadata": {
        "id": "4Ogy7TXEViAd"
      }
    },
    {
      "cell_type": "code",
      "source": [
        "grid = [[\"O\", \" \", \" \"],\n",
        "        [\"X\", \" \", \" \"],\n",
        "        [\" \", \"X\", \"O\"]]"
      ],
      "metadata": {
        "id": "MQpeJgVRUWa9"
      },
      "execution_count": null,
      "outputs": []
    },
    {
      "cell_type": "markdown",
      "source": [
        "Next, let's try to change the element in `(2,1)` (remember, index starts with 0) to `O`."
      ],
      "metadata": {
        "id": "8t4wiwbgV4Fl"
      }
    },
    {
      "cell_type": "code",
      "source": [
        "grid[2][1] = 'O'"
      ],
      "metadata": {
        "id": "1Gc-bYHFWHFC"
      },
      "execution_count": null,
      "outputs": []
    },
    {
      "cell_type": "markdown",
      "source": [
        "And then, we see the result."
      ],
      "metadata": {
        "id": "maPPH431WOWW"
      }
    },
    {
      "cell_type": "code",
      "source": [
        "for i in range(3):\n",
        "  for j in range(3):\n",
        "    print(grid[i][j], end=\"\")\n",
        "  print()"
      ],
      "metadata": {
        "colab": {
          "base_uri": "https://localhost:8080/"
        },
        "id": "3idY3NZyWchP",
        "outputId": "dd2ae4d3-5459-409f-e422-795308b31b89"
      },
      "execution_count": null,
      "outputs": [
        {
          "output_type": "stream",
          "name": "stdout",
          "text": [
            "O  \n",
            "X  \n",
            " OO\n"
          ]
        }
      ]
    },
    {
      "cell_type": "markdown",
      "source": [
        "The board looks a bit weird due to the spaces. Let's format it a bit better."
      ],
      "metadata": {
        "id": "0Tv3J8ekWp5y"
      }
    },
    {
      "cell_type": "code",
      "source": [
        "print(\"-------\")\n",
        "for i in range(3):\n",
        "  print(end=\"|\")\n",
        "  for j in range(3):\n",
        "    print(grid[i][j], end=\"|\")\n",
        "  print()\n",
        "  print(\"-------\")"
      ],
      "metadata": {
        "colab": {
          "base_uri": "https://localhost:8080/"
        },
        "id": "ykcu83ZoXBKf",
        "outputId": "ed33bc73-18e4-466b-c684-85a739630723"
      },
      "execution_count": null,
      "outputs": [
        {
          "output_type": "stream",
          "name": "stdout",
          "text": [
            "-------\n",
            "|O| | |\n",
            "-------\n",
            "|X| | |\n",
            "-------\n",
            "| |X|O|\n",
            "-------\n"
          ]
        }
      ]
    },
    {
      "cell_type": "markdown",
      "source": [
        "One thing to note is, a variable assignment on lists will not copy the list. This might sound confusing but consider the following example."
      ],
      "metadata": {
        "id": "zvqQITrnYAVj"
      }
    },
    {
      "cell_type": "code",
      "source": [
        "l1 = [1, 2, 3]\n",
        "l2 = l1\n",
        "l2[1] = 5\n",
        "print(l1)\n",
        "print(l2)"
      ],
      "metadata": {
        "colab": {
          "base_uri": "https://localhost:8080/"
        },
        "id": "SCbhRGcsYNNf",
        "outputId": "27aed159-ae04-4acf-ad1d-f92ed592c3a6"
      },
      "execution_count": null,
      "outputs": [
        {
          "output_type": "stream",
          "name": "stdout",
          "text": [
            "[1, 5, 3]\n",
            "[1, 5, 3]\n"
          ]
        }
      ]
    },
    {
      "cell_type": "markdown",
      "source": [
        "Both lists `l1` and `l2` are modified! This is because the variable `l1` and `l2` refer to the same list after `l2 = l1`. If you want `l2` to be a copy of `l1`, you need to use `copy` from the `copy` library."
      ],
      "metadata": {
        "id": "IqKOGPa2YXMq"
      }
    },
    {
      "cell_type": "code",
      "source": [
        "import copy\n",
        "\n",
        "l1 = [1, 2, 3]\n",
        "l2 = copy.copy(l1)\n",
        "l2[1] = 5\n",
        "print(l1)\n",
        "print(l2)"
      ],
      "metadata": {
        "colab": {
          "base_uri": "https://localhost:8080/"
        },
        "id": "UrLIhjxNYWaF",
        "outputId": "d335574d-0dea-4f94-ba1f-a0b47789b1b7"
      },
      "execution_count": null,
      "outputs": [
        {
          "output_type": "stream",
          "name": "stdout",
          "text": [
            "[1, 2, 3]\n",
            "[1, 5, 3]\n"
          ]
        }
      ]
    },
    {
      "cell_type": "markdown",
      "source": [
        "Less obviously, consider the 2-dimensional case as in the Tic-Tac-Toe grid."
      ],
      "metadata": {
        "id": "zEpwY6rlYs73"
      }
    },
    {
      "cell_type": "code",
      "source": [
        "grid1 = [[\"O\", \" \", \" \"],\n",
        "         [\"X\", \" \", \" \"],\n",
        "         [\" \", \"X\", \"O\"]]"
      ],
      "metadata": {
        "id": "qBCyJrvwZD1R"
      },
      "execution_count": null,
      "outputs": []
    },
    {
      "cell_type": "markdown",
      "source": [
        "Let's try to make a copy of `grid1` and modify an element of it."
      ],
      "metadata": {
        "id": "wWpDUJiEZJED"
      }
    },
    {
      "cell_type": "code",
      "source": [
        "grid2 = copy.copy(grid1)\n",
        "grid2[1][1] = \"O\""
      ],
      "metadata": {
        "id": "qjM8oeayZXri"
      },
      "execution_count": null,
      "outputs": []
    },
    {
      "cell_type": "markdown",
      "source": [
        "Now, let's check the result."
      ],
      "metadata": {
        "id": "goHBAevlZg50"
      }
    },
    {
      "cell_type": "code",
      "source": [
        "print(grid1)\n",
        "print(grid2)"
      ],
      "metadata": {
        "colab": {
          "base_uri": "https://localhost:8080/"
        },
        "id": "tHOF6tchZk6g",
        "outputId": "703d114e-3a30-4acb-ee0b-ec31394752b6"
      },
      "execution_count": null,
      "outputs": [
        {
          "output_type": "stream",
          "name": "stdout",
          "text": [
            "[['O', ' ', ' '], ['X', 'O', ' '], [' ', 'X', 'O']]\n",
            "[['O', ' ', ' '], ['X', 'O', ' '], [' ', 'X', 'O']]\n"
          ]
        }
      ]
    },
    {
      "cell_type": "markdown",
      "source": [
        "Notice that `grid1` was also changed! We have used `copy.copy`, but why? It's because a `grid1` is a list of list. Each element of `grid1` is a reference to the list. The `copy.copy` only copies the list references. Let's look at this example instead."
      ],
      "metadata": {
        "id": "fcQi8p5KZ3gi"
      }
    },
    {
      "cell_type": "code",
      "source": [
        "grid2[1] = [\" \", \" \", \" \"]\n",
        "print(grid1)\n",
        "print(grid2)"
      ],
      "metadata": {
        "colab": {
          "base_uri": "https://localhost:8080/"
        },
        "id": "lJzYC0Dtad2E",
        "outputId": "303173b8-8a98-4b69-a8db-26fd6cce4f9f"
      },
      "execution_count": null,
      "outputs": [
        {
          "output_type": "stream",
          "name": "stdout",
          "text": [
            "[['O', ' ', ' '], ['X', 'O', ' '], [' ', 'X', 'O']]\n",
            "[['O', ' ', ' '], [' ', ' ', ' '], [' ', 'X', 'O']]\n"
          ]
        }
      ]
    },
    {
      "cell_type": "markdown",
      "source": [
        "Now, `grid1` and `grid2` are different because we modify the actual element of `grid2`. So, what should we do if we want to copy the entire 2-dimensional structure?"
      ],
      "metadata": {
        "id": "wNvNW4AVa1PK"
      }
    },
    {
      "cell_type": "code",
      "execution_count": null,
      "metadata": {
        "id": "0DkfxuuhLVAr",
        "colab": {
          "base_uri": "https://localhost:8080/"
        },
        "outputId": "cbca73d6-d511-4a2a-b371-fd328064b086"
      },
      "outputs": [
        {
          "output_type": "stream",
          "name": "stdout",
          "text": [
            "[['O', ' ', ' '], ['X', 'O', ' '], [' ', 'X', 'O']]\n",
            "[['O', ' ', ' '], ['X', 'O', 'O'], [' ', 'X', 'O']]\n"
          ]
        }
      ],
      "source": [
        "grid2=copy.deepcopy(grid1)\n",
        "grid2[1][2] = 'O'\n",
        "print(grid1)\n",
        "print(grid2)"
      ]
    },
    {
      "cell_type": "markdown",
      "source": [
        "Let's look at a more complicated example. Let's try to print the first 10 Fibonacci numbers in a different way. We know that the Fibonacci number also satisfies the recurrence relation $F_n = F_{n-1} + F_{n-2}$ with $F_1 = F_2 = 1$."
      ],
      "metadata": {
        "id": "tjYNOSVHcQRP"
      }
    },
    {
      "cell_type": "code",
      "source": [
        "Fibonacci = [1, 1]\n",
        "for i in range(2, 10):\n",
        "  Fibonacci.append(Fibonacci[i - 1] + Fibonacci[i - 2])\n",
        "print(Fibonacci)"
      ],
      "metadata": {
        "colab": {
          "base_uri": "https://localhost:8080/"
        },
        "id": "X0T5INSIedPo",
        "outputId": "8b7459af-03ab-4aef-aa4a-c21fb143b4a8"
      },
      "execution_count": null,
      "outputs": [
        {
          "output_type": "stream",
          "name": "stdout",
          "text": [
            "[1, 1, 2, 3, 5, 8, 13, 21, 34, 55]\n"
          ]
        }
      ]
    },
    {
      "cell_type": "markdown",
      "source": [
        "Now, let's try to construct the first few rows of Pascal's triangle (https://en.wikipedia.org/wiki/Pascal%27s_triangle)"
      ],
      "metadata": {
        "id": "NOvQzMoiewYN"
      }
    },
    {
      "cell_type": "code",
      "source": [
        "Pascal = [[1]]\n",
        "for i in range(1, 10):\n",
        "  Pascal.append([])\n",
        "  Pascal[-1].append(1)\n",
        "  for j in range(1, i):\n",
        "    Pascal[-1].append(Pascal[-2][j - 1] + Pascal[-2][j])\n",
        "  Pascal[-1].append(1)\n",
        "for row in Pascal:\n",
        "  for number in row:\n",
        "    print(number, end = \" \")\n",
        "  print()"
      ],
      "metadata": {
        "colab": {
          "base_uri": "https://localhost:8080/"
        },
        "id": "bDqiDczrgN2v",
        "outputId": "6732074e-5724-43ab-d553-07b6a2d786f3"
      },
      "execution_count": null,
      "outputs": [
        {
          "output_type": "stream",
          "name": "stdout",
          "text": [
            "1 \n",
            "1 1 \n",
            "1 2 1 \n",
            "1 3 3 1 \n",
            "1 4 6 4 1 \n",
            "1 5 10 10 5 1 \n",
            "1 6 15 20 15 6 1 \n",
            "1 7 21 35 35 21 7 1 \n",
            "1 8 28 56 70 56 28 8 1 \n",
            "1 9 36 84 126 126 84 36 9 1 \n"
          ]
        }
      ]
    },
    {
      "cell_type": "markdown",
      "source": [
        "### ⭐ **Exercise 1**\n",
        "It is known that the sum of the diagonal of Pascal's triangle is actually a Fibonacci number (https://en.wikipedia.org/wiki/Pascal%27s_triangle#Overall_patterns_and_properties). Write a code to verify this by printing the first 10 sum of such diagonals from the Pascal table that we just constructed."
      ],
      "metadata": {
        "id": "EBB6VBRCiv_1"
      }
    },
    {
      "cell_type": "code",
      "source": [
        "# Write your code here."
      ],
      "metadata": {
        "id": "B_cNghphjz_W"
      },
      "execution_count": null,
      "outputs": []
    },
    {
      "cell_type": "markdown",
      "source": [
        "### ⭐ **Exercise 2**\n",
        "Write a code that accepts two inputs `m` and `n` and create a matrix (list of list) with dimension `m x n` (where `m` is the number of rows and `n` is the number of columns) that contains a spiral of numbers starting from the top left spiralling to the center of the matrix. For example, when `m=4` and `n=5`, your program should compute the following matrix."
      ],
      "metadata": {
        "id": "LvDnRmtlVvi3"
      }
    },
    {
      "cell_type": "code",
      "source": [
        "import numpy\n",
        "M = [[1, 2, 3, 4, 5], [14, 15, 16, 17, 6], [13, 20, 19, 18, 7], [12, 11, 10, 9, 8]]\n",
        "# We use numpy.array just for formatting.\n",
        "print(numpy.array(M))"
      ],
      "metadata": {
        "colab": {
          "base_uri": "https://localhost:8080/"
        },
        "id": "mdknkyVJXMgm",
        "outputId": "e6837b2a-4704-429e-ff91-ef63704db46b"
      },
      "execution_count": null,
      "outputs": [
        {
          "output_type": "stream",
          "name": "stdout",
          "text": [
            "[[ 1  2  3  4  5]\n",
            " [14 15 16 17  6]\n",
            " [13 20 19 18  7]\n",
            " [12 11 10  9  8]]\n"
          ]
        }
      ]
    },
    {
      "cell_type": "code",
      "source": [
        "# Your code here."
      ],
      "metadata": {
        "id": "WcOwMxyPYmKi"
      },
      "execution_count": null,
      "outputs": []
    },
    {
      "cell_type": "markdown",
      "source": [
        "### 8 Functions\n",
        "\n",
        "Imagine that there are 5 places in our code where we need to compute the Fibonacci number using the closed form that is introduced in Exercise 4. The code will looks like:"
      ],
      "metadata": {
        "id": "-4_9SiqOO57r"
      }
    },
    {
      "cell_type": "code",
      "source": [
        "import math\n",
        "\n",
        "phi = (1 + math.sqrt(5)) / 2\n",
        "print(round((phi ** 10 - (-phi) ** -10) / math.sqrt(5)))\n",
        "\n",
        "# Some other code\n",
        "\n",
        "phi = (1 + math.sqrt(5)) / 2\n",
        "print(round((phi ** 20 - (-phi) ** -20) / math.sqrt(5)))\n",
        "\n",
        "# Some other code\n",
        "\n",
        "phi = (1 + math.sqrt(5)) / 2\n",
        "print(round((phi ** 5 - (-phi) ** -5) / math.sqrt(5)))"
      ],
      "metadata": {
        "colab": {
          "base_uri": "https://localhost:8080/"
        },
        "id": "EfkUBpq4PnmF",
        "outputId": "6ccaa215-5aa1-4ea4-fb02-aa18b7055059"
      },
      "execution_count": null,
      "outputs": [
        {
          "output_type": "stream",
          "name": "stdout",
          "text": [
            "55\n",
            "6765\n",
            "5\n"
          ]
        }
      ]
    },
    {
      "cell_type": "markdown",
      "source": [
        "This is very tedious. It will be nice if we don't need to repeatedly type the formula (A keen reader might notice that we don't really need to redeclare `phi` multiple times in the above code, but that is not always the case!). With a function, we can name a section of the code and conveniently call it from other part of the code."
      ],
      "metadata": {
        "id": "Z2HzcRKmQUFA"
      }
    },
    {
      "cell_type": "code",
      "source": [
        "def Fibonacci(n):\n",
        "  phi = (1 + math.sqrt(5)) / 2\n",
        "  return round((phi ** n - (-phi) ** -n) / math.sqrt(5))"
      ],
      "metadata": {
        "id": "uVJ1NyezQy7g"
      },
      "execution_count": null,
      "outputs": []
    },
    {
      "cell_type": "code",
      "source": [
        "print(Fibonacci(10))\n",
        "print(Fibonacci(20))\n",
        "print(Fibonacci(5))"
      ],
      "metadata": {
        "colab": {
          "base_uri": "https://localhost:8080/"
        },
        "id": "Be0EHIImRPr4",
        "outputId": "2a23c065-3eb0-43b7-9d58-9fb8c7a4c5b4"
      },
      "execution_count": null,
      "outputs": [
        {
          "output_type": "stream",
          "name": "stdout",
          "text": [
            "55\n",
            "6765\n",
            "5\n"
          ]
        }
      ]
    },
    {
      "cell_type": "markdown",
      "source": [
        "The result is a much simpler code! This also makes the code easier to read, since a code segment is clearly named. In the Homeworks, you are given a lot of empty functions and you will need to implement them.\n",
        "\n",
        "Of course, a function can be more complicated than this. As another example, let's try to check if an integer is a prime number (which is a solution to the other exercise). A naive implementation will be:"
      ],
      "metadata": {
        "id": "mws1fp0nRbIV"
      }
    },
    {
      "cell_type": "code",
      "source": [
        "def is_prime(n):\n",
        "  if n < 2:\n",
        "    return False\n",
        "  for i in range(2, n):\n",
        "    if n % i == 0:\n",
        "      return False\n",
        "  return True"
      ],
      "metadata": {
        "id": "vrco-gTuSQ7o"
      },
      "execution_count": null,
      "outputs": []
    },
    {
      "cell_type": "code",
      "source": [
        "for i in range(1, 51):\n",
        "  if is_prime(i):\n",
        "    print(i, end=\" \")"
      ],
      "metadata": {
        "colab": {
          "base_uri": "https://localhost:8080/"
        },
        "id": "pOmKqm6tSd31",
        "outputId": "c42260d8-5217-4587-e9aa-a96d02c6a786"
      },
      "execution_count": null,
      "outputs": [
        {
          "output_type": "stream",
          "name": "stdout",
          "text": [
            "2 3 5 7 11 13 17 19 23 29 31 37 41 43 47 "
          ]
        }
      ]
    },
    {
      "cell_type": "markdown",
      "source": [
        "There is of course a much better implementation than this, but this works (although inefficiently). This shows that a function can be more complicated than the previous example."
      ],
      "metadata": {
        "id": "ii6JJrSKSxq1"
      }
    },
    {
      "cell_type": "markdown",
      "source": [
        "### ⭐ **Exercise 3**\n",
        "Write a function `prime` that accepts a number `n` as parameter and returns the `n`-th prime number. For example, if we call `prime(5)`, it should return `11` because the first 5 prime numbers are 2, 3, 5, 7, 11. You can call the `is_prime` function from the previous section from your function."
      ],
      "metadata": {
        "id": "oSGgmQA3TmBZ"
      }
    },
    {
      "cell_type": "code",
      "source": [
        "def prime(n):\n",
        "  # your code here. remove the line below.\n",
        "  raise NotImplementedError"
      ],
      "metadata": {
        "id": "ib4l4JjnTt_F"
      },
      "execution_count": null,
      "outputs": []
    },
    {
      "cell_type": "code",
      "source": [
        "# Call your function from here."
      ],
      "metadata": {
        "id": "0lbfjb9HUInw"
      },
      "execution_count": null,
      "outputs": []
    },
    {
      "cell_type": "markdown",
      "source": [
        "### 9 Recursion\n",
        "\n",
        "Similar to in Mathematics, we can implement a function that calls itself. For example in the case of Fibonacci number.\n"
      ],
      "metadata": {
        "id": "elaJL1ClULJE"
      }
    },
    {
      "cell_type": "code",
      "source": [
        "def Fibonacci(n):\n",
        "  if n < 2:\n",
        "    return 1\n",
        "  return Fibonacci(n - 2) + Fibonacci(n - 1)"
      ],
      "metadata": {
        "id": "AgYi-z-xV1Yy"
      },
      "execution_count": null,
      "outputs": []
    },
    {
      "cell_type": "code",
      "source": [
        "for i in range(1, 11):\n",
        "  print(Fibonacci(i), end=\" \")"
      ],
      "metadata": {
        "colab": {
          "base_uri": "https://localhost:8080/"
        },
        "outputId": "5e0d334b-72a2-4bc8-ee18-5f5992d6752a",
        "id": "VF8EWemKVr9A"
      },
      "execution_count": null,
      "outputs": [
        {
          "output_type": "stream",
          "name": "stdout",
          "text": [
            "1 1 2 3 5 8 13 21 34 55 "
          ]
        }
      ]
    }
  ]
}